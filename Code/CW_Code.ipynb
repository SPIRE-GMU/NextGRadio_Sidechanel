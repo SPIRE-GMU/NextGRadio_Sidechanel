{
 "cells": [
  {
   "cell_type": "markdown",
   "id": "26318e9b",
   "metadata": {},
   "source": [
    "Starting your ChipWhisperer (CW) session"
   ]
  },
  {
   "cell_type": "code",
   "execution_count": 1,
   "id": "249e1023-7389-436e-b18b-608089d5fd1b",
   "metadata": {},
   "outputs": [],
   "source": [
    "import chipwhisperer as cw\n",
    "import matplotlib.pyplot as plt"
   ]
  },
  {
   "cell_type": "code",
   "execution_count": 2,
   "id": "7b7e2a43-ac24-40e0-ab44-fcf3ac3eb1ec",
   "metadata": {},
   "outputs": [],
   "source": [
    "scope = cw.scope() #Initializing the CW scope\n",
    "# scope.upgrade_firmware()"
   ]
  },
  {
   "cell_type": "code",
   "execution_count": 3,
   "id": "e62be720-e5b7-4b2c-ac7b-016ef8988c42",
   "metadata": {},
   "outputs": [],
   "source": [
    "target = cw.target(scope, cw.targets.SimpleSerial) #programming your target"
   ]
  },
  {
   "cell_type": "code",
   "execution_count": 4,
   "id": "c3c34304-a155-489c-aee8-86c898ecd7e8",
   "metadata": {},
   "outputs": [],
   "source": [
    "scope.gain.db = 35"
   ]
  },
  {
   "cell_type": "code",
   "execution_count": 5,
   "id": "f1ee9b57-ba45-4194-b602-c4e12fbf9d08",
   "metadata": {},
   "outputs": [
    {
     "data": {
      "text/plain": [
       "cwhusky Device\n",
       "sn             = 50203220343043543030372037303038\n",
       "fpga_buildtime = 4/11/2024, 09:41\n",
       "fw_version = \n",
       "    major = 1\n",
       "    minor = 5\n",
       "    debug = 0\n",
       "gain = \n",
       "    mode = high\n",
       "    gain = 44\n",
       "    db   = 35.18348623853211\n",
       "adc = \n",
       "    state                    = False\n",
       "    basic_mode               = rising_edge\n",
       "    timeout                  = 2\n",
       "    offset                   = 0\n",
       "    presamples               = 0\n",
       "    samples                  = 131124\n",
       "    decimate                 = 1\n",
       "    trig_count               = 0\n",
       "    stream_mode              = False\n",
       "    test_mode                = False\n",
       "    bits_per_sample          = 12\n",
       "    segments                 = 1\n",
       "    segment_cycles           = 0\n",
       "    segment_cycle_counter_en = False\n",
       "    clip_errors_disabled     = False\n",
       "    lo_gain_errors_disabled  = False\n",
       "    errors                   = gain too low error, \n",
       "clock = \n",
       "    clkgen_src             = system\n",
       "    clkgen_freq            = 0\n",
       "    adc_mul                = 4\n",
       "    adc_freq               = 0\n",
       "    freq_ctr               = 0\n",
       "    freq_ctr_src           = extclk\n",
       "    clkgen_locked          = True\n",
       "    adc_phase              = 0\n",
       "    extclk_monitor_enabled = True\n",
       "    extclk_error           = False\n",
       "    extclk_tolerance       = 1144409.1796875\n",
       "trigger = \n",
       "    sequencer_enabled = False\n",
       "    module            = basic\n",
       "    triggers          = tio4\n",
       "io = \n",
       "    tio1            = serial_tx\n",
       "    tio2            = serial_rx\n",
       "    tio3            = high_z\n",
       "    tio4            = high_z\n",
       "    pdid            = high_z\n",
       "    pdic            = high_z\n",
       "    nrst            = high_z\n",
       "    glitch_hp       = False\n",
       "    glitch_lp       = False\n",
       "    extclk_src      = hs1\n",
       "    hs2             = None\n",
       "    target_pwr      = True\n",
       "    tio_states      = (1, 1, 1, 0)\n",
       "    cdc_settings    = bytearray(b'\\x00\\x00\\x00\\x00')\n",
       "    aux_io_mcx      = high_z\n",
       "    glitch_trig_mcx = trigger\n",
       "glitch = \n",
       "    enabled           = False\n",
       "    num_glitches      = 1\n",
       "    clk_src           = target\n",
       "    mmcm_locked       = False\n",
       "    width             = 0\n",
       "    offset            = 0\n",
       "    trigger_src       = manual\n",
       "    arm_timing        = after_scope\n",
       "    ext_offset        = 0\n",
       "    repeat            = 1\n",
       "    output            = clock_xor\n",
       "    phase_shift_steps = 0\n",
       "SAD = \n",
       "    threshold            = 0\n",
       "    reference            = [0, 0, 0, 0, 0, 0, 0, 0, 0, 0, 0, 0, 0, 0, 0, 0, 0, 0, 0, 0, 0, 0, 0, 0, 0, 0, 0, 0, 0, 0, 0, 0, 0, 0, 0, 0, 0, 0, 0, 0, 0, 0, 0, 0, 0, 0, 0, 0, 0, 0, 0, 0, 0, 0, 0, 0, 0, 0, 0, 0, 0, 0, 0, 0, 0, 0, 0, 0, 0, 0, 0, 0, 0, 0, 0, 0, 0, 0, 0, 0, 0, 0, 0, 0, 0, 0, 0, 0, 0, 0, 0, 0, 0, 0, 0, 0, 0, 0, 0, 0, 0, 0, 0, 0, 0, 0, 0, 0, 0, 0, 0, 0, 0, 0, 0, 0, 0, 0, 0, 0, 0, 0, 0, 0, 0, 0, 0, 0, 0, 0, 0, 0, 0, 0, 0, 0, 0, 0, 0, 0, 0, 0, 0, 0, 0, 0, 0, 0, 0, 0, 0, 0, 0, 0, 0, 0, 0, 0, 0, 0, 0, 0, 0, 0, 0, 0, 0, 0, 0, 0, 0, 0, 0, 0, 0, 0, 0, 0, 0, 0, 0, 0, 0, 0, 0, 0, 0, 0, 0, 0, 0, 0]\n",
       "    sad_reference_length = 192\n",
       "    half_pattern         = False\n",
       "    multiple_triggers    = False\n",
       "    num_triggers_seen    = 0\n",
       "    always_armed         = False\n",
       "ADS4128 = \n",
       "    mode      = normal\n",
       "    low_speed = True\n",
       "    hi_perf   = 2\n",
       "LA = \n",
       "    present                  = True\n",
       "    enabled                  = False\n",
       "    clkgen_enabled           = False\n",
       "    locked                   = False\n",
       "    clk_source               = pll\n",
       "    trigger_source           = glitch\n",
       "    oversampling_factor      = 1\n",
       "    sampling_clock_frequency = 0.0\n",
       "    downsample               = 1\n",
       "    capture_group            = glitch\n",
       "    capture_depth            = 0\n",
       "trace = \n",
       "    present      = True\n",
       "    enabled      = False\n",
       "    errors       = False\n",
       "    trace_synced = False\n",
       "    trace_mode   = parallel\n",
       "    trace_width  = 4\n",
       "    clock = \n",
       "        fe_clock_alive   = True\n",
       "        fe_clock_src     = usb_clock\n",
       "        clkgen_enabled   = False\n",
       "        fe_freq          = 96000000.0\n",
       "        swo_clock_locked = False\n",
       "        swo_clock_freq   = 0.0\n",
       "    capture = \n",
       "        trigger_source         = trace trigger, rule #0\n",
       "        use_husky_arm          = False\n",
       "        raw                    = True\n",
       "        rules_enabled          = []\n",
       "        rules                  = []\n",
       "        mode                   = while_trig\n",
       "        count                  = 0\n",
       "        max_triggers           = 1\n",
       "        triggers_generated     = 0\n",
       "        record_syncs           = False\n",
       "        matched_pattern_data   = 0000000000000000\n",
       "        matched_pattern_counts = [0, 0, 0, 0, 0, 0, 0, 0]\n",
       "XADC = \n",
       "    status                               = good\n",
       "    current temperature [C]              = 51.7\n",
       "    maximum temperature [C]              = 55.7\n",
       "    user temperature alarm trigger [C]   = 80.0\n",
       "    user temperature reset trigger [C]   = 59.9\n",
       "    device temperature alarm trigger [C] = 84.9\n",
       "    device temperature reset trigger [C] = 59.9\n",
       "    vccint                               = 1.009\n",
       "    vccaux                               = 1.794\n",
       "    vccbram                              = 1.008\n",
       "userio = \n",
       "    mode            = normal\n",
       "    direction       = 0\n",
       "    drive_data      = 0\n",
       "    status          = 511\n",
       "    Individual pins = \n",
       "        pin D0 = Target-driven, value = 1\n",
       "        pin D1 = Target-driven, value = 1\n",
       "        pin D2 = Target-driven, value = 1\n",
       "        pin D3 = Target-driven, value = 1\n",
       "        pin D4 = Target-driven, value = 1\n",
       "        pin D5 = Target-driven, value = 1\n",
       "        pin D6 = Target-driven, value = 1\n",
       "        pin D7 = Target-driven, value = 1\n",
       "        pin CK = Target-driven, value = 1\n",
       "LEDs = \n",
       "    setting = 0 (default, as labelled)\n",
       "errors = \n",
       "    sam_errors      = False\n",
       "    sam_led_setting = Default\n",
       "    XADC errors     = False\n",
       "    ADC errors      = gain too low error, \n",
       "    extclk error    = False\n",
       "    trace errors    = False"
      ]
     },
     "execution_count": 5,
     "metadata": {},
     "output_type": "execute_result"
    }
   ],
   "source": [
    "scope #gives the scope's info; helpful when debugging if errors are thrown."
   ]
  },
  {
   "cell_type": "code",
   "execution_count": 6,
   "id": "48ee20da-a9e5-4d89-94d5-551b90fba4c4",
   "metadata": {},
   "outputs": [
    {
     "name": "stdout",
     "output_type": "stream",
     "text": [
      "scope.gain.gain                          changed from 44                        to 22                       \n",
      "scope.gain.db                            changed from 35.18348623853211         to 25.091743119266056       \n",
      "scope.adc.samples                        changed from 131124                    to 5000                     \n",
      "scope.clock.clkgen_freq                  changed from 0                         to 7370129.87012987         \n",
      "scope.clock.adc_freq                     changed from 0                         to 29480519.48051948        \n",
      "scope.clock.extclk_monitor_enabled       changed from True                      to False                    \n",
      "scope.clock.extclk_tolerance             changed from 1144409.1796875           to 13096723.705530167       \n",
      "scope.io.tio1                            changed from serial_tx                 to serial_rx                \n",
      "scope.io.tio2                            changed from serial_rx                 to serial_tx                \n",
      "scope.io.hs2                             changed from None                      to clkgen                   \n",
      "scope.glitch.phase_shift_steps           changed from 0                         to 4592                     \n",
      "scope.trace.capture.trigger_source       changed from trace trigger, rule #0    to firmware trigger         \n"
     ]
    }
   ],
   "source": [
    "scope.default_setup()"
   ]
  },
  {
   "cell_type": "markdown",
   "id": "2c6eda33",
   "metadata": {},
   "source": [
    "Cell below starts the printer and captures traces at a total of 9 positions on the radio chip. It finds the \"optimal\" position by averaging the numbers. \n",
    "Then, it continues to collect more traces (trace_count) at the best position. "
   ]
  },
  {
   "cell_type": "code",
   "execution_count": 9,
   "id": "9ef90126-d722-42e5-891a-a41854de6e1f",
   "metadata": {},
   "outputs": [
    {
     "name": "stdout",
     "output_type": "stream",
     "text": [
      "Starting data collection at multiple positions.\n",
      "Printer connected. Sending initialization G-code.\n",
      "Sent: G21\n",
      "Sent: G90\n",
      "Sent: M140 S0\n",
      "Sent: M104 S0\n",
      "Sent: M107\n",
      "Sent: G28\n",
      "Sent: G0 Z25.4 F3000\n",
      "Sent: G0 X22.7 Y116.8 F3000\n",
      "Sent: G0 Z0.0 F3000\n",
      "Starting trial 1...\n",
      "Moving to position 1: G1 X22.7 Y116.8 Z0.0 F1500\n",
      "Sent: G1 X22.7 Y116.8 Z0.0 F1500\n",
      "Chipwhisperer armed\n"
     ]
    },
    {
     "name": "stderr",
     "output_type": "stream",
     "text": [
      "(ChipWhisperer Scope WARNING|File _OpenADCInterface.py:732) Timeout in OpenADC capture(), no trigger seen! Trigger forced, data is invalid. Status: 13\n",
      "(ChipWhisperer Scope WARNING|File _OpenADCInterface.py:732) Timeout in OpenADC capture(), no trigger seen! Trigger forced, data is invalid. Status: 12\n"
     ]
    },
    {
     "name": "stdout",
     "output_type": "stream",
     "text": [
      "Capture done!\n",
      "Power trace captured: [ 0.00415039  0.00341797  0.01611328 ... -0.03076172 -0.03735352\n",
      " -0.02929688]\n",
      "Captured trace for position 1\n",
      "Moving to position 2: G1 X27.78 Y116.8 Z0.0 F1500\n",
      "Sent: G1 X27.78 Y116.8 Z0.0 F1500\n",
      "Chipwhisperer armed\n"
     ]
    },
    {
     "name": "stderr",
     "output_type": "stream",
     "text": [
      "(ChipWhisperer Scope WARNING|File _OpenADCInterface.py:732) Timeout in OpenADC capture(), no trigger seen! Trigger forced, data is invalid. Status: 13\n",
      "(ChipWhisperer Scope WARNING|File _OpenADCInterface.py:732) Timeout in OpenADC capture(), no trigger seen! Trigger forced, data is invalid. Status: 12\n"
     ]
    },
    {
     "name": "stdout",
     "output_type": "stream",
     "text": [
      "Capture done!\n",
      "Power trace captured: [0.00366211 0.01391602 0.00756836 ... 0.04077148 0.03588867 0.03271484]\n",
      "Captured trace for position 2\n",
      "Moving to position 3: G1 X32.86 Y116.8 Z0.0 F1500\n",
      "Sent: G1 X32.86 Y116.8 Z0.0 F1500\n",
      "Chipwhisperer armed\n"
     ]
    },
    {
     "name": "stderr",
     "output_type": "stream",
     "text": [
      "(ChipWhisperer Scope WARNING|File _OpenADCInterface.py:732) Timeout in OpenADC capture(), no trigger seen! Trigger forced, data is invalid. Status: 13\n",
      "(ChipWhisperer Scope WARNING|File _OpenADCInterface.py:732) Timeout in OpenADC capture(), no trigger seen! Trigger forced, data is invalid. Status: 12\n"
     ]
    },
    {
     "name": "stdout",
     "output_type": "stream",
     "text": [
      "Capture done!\n",
      "Power trace captured: [-0.02148438 -0.01513672 -0.01000977 ...  0.02880859  0.02563477\n",
      "  0.02832031]\n",
      "Captured trace for position 3\n",
      "Moving to position 4: G1 X32.86 Y121.88 Z0.0 F1500\n",
      "Sent: G1 X32.86 Y121.88 Z0.0 F1500\n",
      "Chipwhisperer armed\n"
     ]
    },
    {
     "name": "stderr",
     "output_type": "stream",
     "text": [
      "(ChipWhisperer Scope WARNING|File _OpenADCInterface.py:732) Timeout in OpenADC capture(), no trigger seen! Trigger forced, data is invalid. Status: 13\n",
      "(ChipWhisperer Scope WARNING|File _OpenADCInterface.py:732) Timeout in OpenADC capture(), no trigger seen! Trigger forced, data is invalid. Status: 12\n"
     ]
    },
    {
     "name": "stdout",
     "output_type": "stream",
     "text": [
      "Capture done!\n",
      "Power trace captured: [-0.03808594 -0.04370117 -0.04150391 ...  0.01513672  0.01147461\n",
      "  0.02636719]\n",
      "Captured trace for position 4\n",
      "Moving to position 5: G1 X27.78 Y121.88 Z0.0 F1500\n",
      "Sent: G1 X27.78 Y121.88 Z0.0 F1500\n",
      "Chipwhisperer armed\n"
     ]
    },
    {
     "name": "stderr",
     "output_type": "stream",
     "text": [
      "(ChipWhisperer Scope WARNING|File _OpenADCInterface.py:732) Timeout in OpenADC capture(), no trigger seen! Trigger forced, data is invalid. Status: 13\n",
      "(ChipWhisperer Scope WARNING|File _OpenADCInterface.py:732) Timeout in OpenADC capture(), no trigger seen! Trigger forced, data is invalid. Status: 12\n"
     ]
    },
    {
     "name": "stdout",
     "output_type": "stream",
     "text": [
      "Capture done!\n",
      "Power trace captured: [ 0.00878906  0.01074219 -0.00024414 ...  0.02294922  0.03588867\n",
      "  0.02856445]\n",
      "Captured trace for position 5\n",
      "Moving to position 6: G1 X22.7 Y121.88 Z0.0 F1500\n",
      "Sent: G1 X22.7 Y121.88 Z0.0 F1500\n",
      "Chipwhisperer armed\n"
     ]
    },
    {
     "name": "stderr",
     "output_type": "stream",
     "text": [
      "(ChipWhisperer Scope WARNING|File _OpenADCInterface.py:732) Timeout in OpenADC capture(), no trigger seen! Trigger forced, data is invalid. Status: 13\n",
      "(ChipWhisperer Scope WARNING|File _OpenADCInterface.py:732) Timeout in OpenADC capture(), no trigger seen! Trigger forced, data is invalid. Status: 12\n"
     ]
    },
    {
     "name": "stdout",
     "output_type": "stream",
     "text": [
      "Capture done!\n",
      "Power trace captured: [ 0.02905273  0.03710938  0.03417969 ...  0.01367188 -0.00268555\n",
      "  0.00146484]\n",
      "Captured trace for position 6\n",
      "Moving to position 7: G1 X22.7 Y126.96 Z0.0 F1500\n",
      "Sent: G1 X22.7 Y126.96 Z0.0 F1500\n",
      "Chipwhisperer armed\n"
     ]
    },
    {
     "name": "stderr",
     "output_type": "stream",
     "text": [
      "(ChipWhisperer Scope WARNING|File _OpenADCInterface.py:732) Timeout in OpenADC capture(), no trigger seen! Trigger forced, data is invalid. Status: 13\n",
      "(ChipWhisperer Scope WARNING|File _OpenADCInterface.py:732) Timeout in OpenADC capture(), no trigger seen! Trigger forced, data is invalid. Status: 12\n"
     ]
    },
    {
     "name": "stdout",
     "output_type": "stream",
     "text": [
      "Capture done!\n",
      "Power trace captured: [-0.00097656  0.01293945  0.02392578 ...  0.03686523  0.02416992\n",
      "  0.02490234]\n",
      "Captured trace for position 7\n",
      "Moving to position 8: G1 X27.78 Y126.96 Z0.0 F1500\n",
      "Sent: G1 X27.78 Y126.96 Z0.0 F1500\n",
      "Chipwhisperer armed\n"
     ]
    },
    {
     "name": "stderr",
     "output_type": "stream",
     "text": [
      "(ChipWhisperer Scope WARNING|File _OpenADCInterface.py:732) Timeout in OpenADC capture(), no trigger seen! Trigger forced, data is invalid. Status: 13\n",
      "(ChipWhisperer Scope WARNING|File _OpenADCInterface.py:732) Timeout in OpenADC capture(), no trigger seen! Trigger forced, data is invalid. Status: 12\n"
     ]
    },
    {
     "name": "stdout",
     "output_type": "stream",
     "text": [
      "Capture done!\n",
      "Power trace captured: [-0.02294922 -0.02392578 -0.00634766 ...  0.01074219  0.01464844\n",
      " -0.00195312]\n",
      "Captured trace for position 8\n",
      "Moving to position 9: G1 X32.86 Y126.96 Z0.0 F1500\n",
      "Sent: G1 X32.86 Y126.96 Z0.0 F1500\n",
      "Chipwhisperer armed\n"
     ]
    },
    {
     "name": "stderr",
     "output_type": "stream",
     "text": [
      "(ChipWhisperer Scope WARNING|File _OpenADCInterface.py:732) Timeout in OpenADC capture(), no trigger seen! Trigger forced, data is invalid. Status: 13\n",
      "(ChipWhisperer Scope WARNING|File _OpenADCInterface.py:732) Timeout in OpenADC capture(), no trigger seen! Trigger forced, data is invalid. Status: 12\n"
     ]
    },
    {
     "name": "stdout",
     "output_type": "stream",
     "text": [
      "Capture done!\n",
      "Power trace captured: [-0.02514648 -0.02783203 -0.02880859 ...  0.02124023  0.00561523\n",
      "  0.02270508]\n",
      "Captured trace for position 9\n",
      "Trial 1 data saved.\n",
      "Starting trial 2...\n",
      "Moving to position 1: G1 X22.7 Y116.8 Z0.0 F1500\n",
      "Sent: G1 X22.7 Y116.8 Z0.0 F1500\n",
      "Chipwhisperer armed\n"
     ]
    },
    {
     "name": "stderr",
     "output_type": "stream",
     "text": [
      "(ChipWhisperer Scope WARNING|File _OpenADCInterface.py:732) Timeout in OpenADC capture(), no trigger seen! Trigger forced, data is invalid. Status: 13\n",
      "(ChipWhisperer Scope WARNING|File _OpenADCInterface.py:732) Timeout in OpenADC capture(), no trigger seen! Trigger forced, data is invalid. Status: 12\n"
     ]
    },
    {
     "name": "stdout",
     "output_type": "stream",
     "text": [
      "Capture done!\n",
      "Power trace captured: [-0.03515625 -0.03637695 -0.03710938 ...  0.02319336  0.01757812\n",
      "  0.02099609]\n",
      "Captured trace for position 1\n",
      "Moving to position 2: G1 X27.78 Y116.8 Z0.0 F1500\n",
      "Sent: G1 X27.78 Y116.8 Z0.0 F1500\n",
      "Chipwhisperer armed\n"
     ]
    },
    {
     "name": "stderr",
     "output_type": "stream",
     "text": [
      "(ChipWhisperer Scope WARNING|File _OpenADCInterface.py:732) Timeout in OpenADC capture(), no trigger seen! Trigger forced, data is invalid. Status: 13\n",
      "(ChipWhisperer Scope WARNING|File _OpenADCInterface.py:732) Timeout in OpenADC capture(), no trigger seen! Trigger forced, data is invalid. Status: 12\n"
     ]
    },
    {
     "name": "stdout",
     "output_type": "stream",
     "text": [
      "Capture done!\n",
      "Power trace captured: [-0.00952148  0.00756836  0.00756836 ...  0.01147461  0.01367188\n",
      "  0.01904297]\n",
      "Captured trace for position 2\n",
      "Moving to position 3: G1 X32.86 Y116.8 Z0.0 F1500\n",
      "Sent: G1 X32.86 Y116.8 Z0.0 F1500\n",
      "Chipwhisperer armed\n"
     ]
    },
    {
     "name": "stderr",
     "output_type": "stream",
     "text": [
      "(ChipWhisperer Scope WARNING|File _OpenADCInterface.py:732) Timeout in OpenADC capture(), no trigger seen! Trigger forced, data is invalid. Status: 13\n",
      "(ChipWhisperer Scope WARNING|File _OpenADCInterface.py:732) Timeout in OpenADC capture(), no trigger seen! Trigger forced, data is invalid. Status: 12\n"
     ]
    },
    {
     "name": "stdout",
     "output_type": "stream",
     "text": [
      "Capture done!\n",
      "Power trace captured: [0.01245117 0.01611328 0.01147461 ... 0.03881836 0.05053711 0.03369141]\n",
      "Captured trace for position 3\n",
      "Moving to position 4: G1 X32.86 Y121.88 Z0.0 F1500\n",
      "Sent: G1 X32.86 Y121.88 Z0.0 F1500\n",
      "Chipwhisperer armed\n"
     ]
    },
    {
     "name": "stderr",
     "output_type": "stream",
     "text": [
      "(ChipWhisperer Scope WARNING|File _OpenADCInterface.py:732) Timeout in OpenADC capture(), no trigger seen! Trigger forced, data is invalid. Status: 13\n",
      "(ChipWhisperer Scope WARNING|File _OpenADCInterface.py:732) Timeout in OpenADC capture(), no trigger seen! Trigger forced, data is invalid. Status: 12\n"
     ]
    },
    {
     "name": "stdout",
     "output_type": "stream",
     "text": [
      "Capture done!\n",
      "Power trace captured: [ 0.02319336  0.01000977  0.0144043  ... -0.03540039 -0.03881836\n",
      " -0.03076172]\n",
      "Captured trace for position 4\n",
      "Moving to position 5: G1 X27.78 Y121.88 Z0.0 F1500\n",
      "Sent: G1 X27.78 Y121.88 Z0.0 F1500\n",
      "Chipwhisperer armed\n"
     ]
    },
    {
     "name": "stderr",
     "output_type": "stream",
     "text": [
      "(ChipWhisperer Scope WARNING|File _OpenADCInterface.py:732) Timeout in OpenADC capture(), no trigger seen! Trigger forced, data is invalid. Status: 13\n",
      "(ChipWhisperer Scope WARNING|File _OpenADCInterface.py:732) Timeout in OpenADC capture(), no trigger seen! Trigger forced, data is invalid. Status: 12\n"
     ]
    },
    {
     "name": "stdout",
     "output_type": "stream",
     "text": [
      "Capture done!\n",
      "Power trace captured: [0.01367188 0.02197266 0.01586914 ... 0.00708008 0.00585938 0.01074219]\n",
      "Captured trace for position 5\n",
      "Moving to position 6: G1 X22.7 Y121.88 Z0.0 F1500\n",
      "Sent: G1 X22.7 Y121.88 Z0.0 F1500\n",
      "Chipwhisperer armed\n"
     ]
    },
    {
     "name": "stderr",
     "output_type": "stream",
     "text": [
      "(ChipWhisperer Scope WARNING|File _OpenADCInterface.py:732) Timeout in OpenADC capture(), no trigger seen! Trigger forced, data is invalid. Status: 13\n",
      "(ChipWhisperer Scope WARNING|File _OpenADCInterface.py:732) Timeout in OpenADC capture(), no trigger seen! Trigger forced, data is invalid. Status: 12\n"
     ]
    },
    {
     "name": "stdout",
     "output_type": "stream",
     "text": [
      "Capture done!\n",
      "Power trace captured: [ 0.02758789  0.0246582   0.01928711 ... -0.01928711 -0.00610352\n",
      " -0.01123047]\n",
      "Captured trace for position 6\n",
      "Moving to position 7: G1 X22.7 Y126.96 Z0.0 F1500\n",
      "Sent: G1 X22.7 Y126.96 Z0.0 F1500\n",
      "Chipwhisperer armed\n"
     ]
    },
    {
     "name": "stderr",
     "output_type": "stream",
     "text": [
      "(ChipWhisperer Scope WARNING|File _OpenADCInterface.py:732) Timeout in OpenADC capture(), no trigger seen! Trigger forced, data is invalid. Status: 13\n",
      "(ChipWhisperer Scope WARNING|File _OpenADCInterface.py:732) Timeout in OpenADC capture(), no trigger seen! Trigger forced, data is invalid. Status: 12\n"
     ]
    },
    {
     "name": "stdout",
     "output_type": "stream",
     "text": [
      "Capture done!\n",
      "Power trace captured: [ 0.03173828  0.02490234  0.03320312 ... -0.03295898 -0.02246094\n",
      " -0.0246582 ]\n",
      "Captured trace for position 7\n",
      "Moving to position 8: G1 X27.78 Y126.96 Z0.0 F1500\n",
      "Sent: G1 X27.78 Y126.96 Z0.0 F1500\n"
     ]
    },
    {
     "ename": "KeyboardInterrupt",
     "evalue": "",
     "output_type": "error",
     "traceback": [
      "\u001b[0;31m---------------------------------------------------------------------------\u001b[0m",
      "\u001b[0;31mKeyboardInterrupt\u001b[0m                         Traceback (most recent call last)",
      "Cell \u001b[0;32mIn[9], line 114\u001b[0m\n\u001b[1;32m    111\u001b[0m     \u001b[38;5;28mprint\u001b[39m(\u001b[38;5;124m\"\u001b[39m\u001b[38;5;124mData collection complete.\u001b[39m\u001b[38;5;124m\"\u001b[39m)\n\u001b[1;32m    113\u001b[0m \u001b[38;5;28;01mif\u001b[39;00m \u001b[38;5;18m__name__\u001b[39m \u001b[38;5;241m==\u001b[39m \u001b[38;5;124m\"\u001b[39m\u001b[38;5;124m__main__\u001b[39m\u001b[38;5;124m\"\u001b[39m:\n\u001b[0;32m--> 114\u001b[0m     \u001b[43mmain\u001b[49m\u001b[43m(\u001b[49m\u001b[43m)\u001b[49m\n",
      "Cell \u001b[0;32mIn[9], line 107\u001b[0m, in \u001b[0;36mmain\u001b[0;34m()\u001b[0m\n\u001b[1;32m    105\u001b[0m \u001b[38;5;28;01mdef\u001b[39;00m \u001b[38;5;21mmain\u001b[39m():\n\u001b[1;32m    106\u001b[0m     \u001b[38;5;28mprint\u001b[39m(\u001b[38;5;124m\"\u001b[39m\u001b[38;5;124mStarting data collection at multiple positions.\u001b[39m\u001b[38;5;124m\"\u001b[39m)\n\u001b[0;32m--> 107\u001b[0m     position_averages \u001b[38;5;241m=\u001b[39m \u001b[43mcollect_data_at_positions\u001b[49m\u001b[43m(\u001b[49m\u001b[43m)\u001b[49m\n\u001b[1;32m    108\u001b[0m     best_idx, best_position \u001b[38;5;241m=\u001b[39m determine_best_position(position_averages)\n\u001b[1;32m    109\u001b[0m     \u001b[38;5;28mprint\u001b[39m(\u001b[38;5;124mf\u001b[39m\u001b[38;5;124m\"\u001b[39m\u001b[38;5;124mBest position determined: \u001b[39m\u001b[38;5;132;01m{\u001b[39;00mbest_idx\u001b[38;5;250m \u001b[39m\u001b[38;5;241m+\u001b[39m\u001b[38;5;250m \u001b[39m\u001b[38;5;241m1\u001b[39m\u001b[38;5;132;01m}\u001b[39;00m\u001b[38;5;124m - \u001b[39m\u001b[38;5;132;01m{\u001b[39;00mbest_position\u001b[38;5;132;01m}\u001b[39;00m\u001b[38;5;124m\"\u001b[39m)\n",
      "Cell \u001b[0;32mIn[9], line 55\u001b[0m, in \u001b[0;36mcollect_data_at_positions\u001b[0;34m()\u001b[0m\n\u001b[1;32m     53\u001b[0m \u001b[38;5;28;01mfor\u001b[39;00m idx, position \u001b[38;5;129;01min\u001b[39;00m \u001b[38;5;28menumerate\u001b[39m(GCODE_POSITIONS):\n\u001b[1;32m     54\u001b[0m     \u001b[38;5;28mprint\u001b[39m(\u001b[38;5;124mf\u001b[39m\u001b[38;5;124m\"\u001b[39m\u001b[38;5;124mMoving to position \u001b[39m\u001b[38;5;132;01m{\u001b[39;00midx\u001b[38;5;250m \u001b[39m\u001b[38;5;241m+\u001b[39m\u001b[38;5;250m \u001b[39m\u001b[38;5;241m1\u001b[39m\u001b[38;5;132;01m}\u001b[39;00m\u001b[38;5;124m: \u001b[39m\u001b[38;5;132;01m{\u001b[39;00mposition\u001b[38;5;132;01m}\u001b[39;00m\u001b[38;5;124m\"\u001b[39m)\n\u001b[0;32m---> 55\u001b[0m     \u001b[43msend_gcode\u001b[49m\u001b[43m(\u001b[49m\u001b[43mser\u001b[49m\u001b[43m,\u001b[49m\u001b[43m \u001b[49m\u001b[43mposition\u001b[49m\u001b[43m)\u001b[49m\n\u001b[1;32m     56\u001b[0m     trace \u001b[38;5;241m=\u001b[39m collect_traces()\n\u001b[1;32m     57\u001b[0m     trace_list\u001b[38;5;241m.\u001b[39mappend(trace)\n",
      "Cell \u001b[0;32mIn[9], line 40\u001b[0m, in \u001b[0;36msend_gcode\u001b[0;34m(ser, command)\u001b[0m\n\u001b[1;32m     38\u001b[0m ser\u001b[38;5;241m.\u001b[39mwrite((command \u001b[38;5;241m+\u001b[39m \u001b[38;5;124m'\u001b[39m\u001b[38;5;130;01m\\n\u001b[39;00m\u001b[38;5;124m'\u001b[39m)\u001b[38;5;241m.\u001b[39mencode())\n\u001b[1;32m     39\u001b[0m \u001b[38;5;28mprint\u001b[39m(\u001b[38;5;124mf\u001b[39m\u001b[38;5;124m\"\u001b[39m\u001b[38;5;124mSent: \u001b[39m\u001b[38;5;132;01m{\u001b[39;00mcommand\u001b[38;5;132;01m}\u001b[39;00m\u001b[38;5;124m\"\u001b[39m)\n\u001b[0;32m---> 40\u001b[0m \u001b[43mtime\u001b[49m\u001b[38;5;241;43m.\u001b[39;49m\u001b[43msleep\u001b[49m\u001b[43m(\u001b[49m\u001b[38;5;241;43m6\u001b[39;49m\u001b[43m)\u001b[49m\n",
      "\u001b[0;31mKeyboardInterrupt\u001b[0m: "
     ]
    }
   ],
   "source": [
    "import serial\n",
    "import time\n",
    "import numpy as np\n",
    "import os\n",
    "\n",
    "# Printer Configuration\n",
    "SERIAL_PORT = '/dev/ttyUSB0'  # Replace with your serial port\n",
    "BAUD_RATE = 115200  # Typical baud rate for Ender 3\n",
    "TIMEOUT = 1  # Timeout for printer communication\n",
    "\n",
    "# File Configuration\n",
    "FILE_DIRECTORY = '/home/cyse/chipwhisperer/jupyter/courses/sca101/2025_Final_Data_Collection/Phone/Radio_Station'\n",
    "TRIALS = 3\n",
    "TRACE_COUNT = 10  # Number of traces at best position\n",
    "\n",
    "GCODE_INIT = [\n",
    "    \"G21\", \"G90\", \"M140 S0\", \"M104 S0\", \"M107\", \"G28\", \"G0 Z25.4 F3000\", \"G0 X22.7 Y116.8 F3000\", \"G0 Z0.0 F3000\"\n",
    "]\n",
    "\n",
    "GCODE_POSITIONS = [\n",
    "    \"G1 X22.7 Y116.8 Z0.0 F1500\", \"G1 X27.78 Y116.8 Z0.0 F1500\", \"G1 X32.86 Y116.8 Z0.0 F1500\", \n",
    "    \"G1 X32.86 Y121.88 Z0.0 F1500\", \"G1 X27.78 Y121.88 Z0.0 F1500\", \"G1 X22.7 Y121.88 Z0.0 F1500\", \n",
    "    \"G1 X22.7 Y126.96 Z0.0 F1500\", \"G1 X27.78 Y126.96 Z0.0 F1500\", \"G1 X32.86 Y126.96 Z0.0 F1500\"\n",
    "]\n",
    "\n",
    "GCODE_FINAL = [\"G0 Z25.4 F3000\", \"M140 S0\", \"M104 S0\", \"M84\"]\n",
    "\n",
    "def collect_traces():\n",
    "    scope.arm()\n",
    "    print(\"Chipwhisperer armed\")\n",
    "    scope.capture()\n",
    "    print(\"Capture done!\")\n",
    "    power_trace = scope.get_last_trace()\n",
    "    print(f\"Power trace captured: {power_trace}\")\n",
    "    return power_trace\n",
    "\n",
    "def send_gcode(ser, command):\n",
    "    ser.write((command + '\\n').encode())\n",
    "    print(f\"Sent: {command}\")\n",
    "    time.sleep(6)\n",
    "\n",
    "def collect_data_at_positions():\n",
    "    position_averages = np.zeros((TRIALS, len(GCODE_POSITIONS)))\n",
    "    \n",
    "    with serial.Serial(SERIAL_PORT, BAUD_RATE, timeout=TIMEOUT) as ser:\n",
    "        print(\"Printer connected. Sending initialization G-code.\")\n",
    "        for command in GCODE_INIT:\n",
    "            send_gcode(ser, command)\n",
    "        \n",
    "        for trial in range(1, TRIALS + 1):\n",
    "            print(f\"Starting trial {trial}...\")\n",
    "            trace_list = []\n",
    "            for idx, position in enumerate(GCODE_POSITIONS):\n",
    "                print(f\"Moving to position {idx + 1}: {position}\")\n",
    "                send_gcode(ser, position)\n",
    "                trace = collect_traces()\n",
    "                trace_list.append(trace)\n",
    "                position_averages[trial - 1, idx] = np.mean(np.abs(trace))\n",
    "                print(f\"Captured trace for position {idx + 1}\")\n",
    "                time.sleep(2)\n",
    "            \n",
    "            np.save(os.path.join(FILE_DIRECTORY, f'trial{trial}.npy'), np.array(trace_list))\n",
    "            print(f\"Trial {trial} data saved.\")\n",
    "        \n",
    "        print(\"Sending final G-code.\")\n",
    "        for command in GCODE_FINAL:\n",
    "            send_gcode(ser, command)\n",
    "    \n",
    "    return position_averages\n",
    "\n",
    "def determine_best_position(position_averages):\n",
    "    final_averages = np.mean(position_averages, axis=0)\n",
    "    best_idx = np.argmax(final_averages)\n",
    "    print(\"Final Averages for Each Position:\")\n",
    "    for i, avg in enumerate(final_averages, start=1):\n",
    "        print(f\"Position {i}: {avg:.4f} ({GCODE_POSITIONS[i - 1]})\")\n",
    "    print(f\"\\nBest position is {best_idx + 1} with G-code: {GCODE_POSITIONS[best_idx]}\")\n",
    "    return best_idx, GCODE_POSITIONS[best_idx]\n",
    "\n",
    "def collect_data_at_best_position(best_position):\n",
    "    trace_list = []\n",
    "    \n",
    "    with serial.Serial(SERIAL_PORT, BAUD_RATE, timeout=TIMEOUT) as ser:\n",
    "        print(\"Printer connected. Sending initialization G-code.\")\n",
    "        for command in GCODE_INIT:\n",
    "            send_gcode(ser, command)\n",
    "        \n",
    "        print(f\"Moving to best position: {best_position}\")\n",
    "        send_gcode(ser, best_position)\n",
    "        \n",
    "        print(f\"Collecting {TRACE_COUNT} traces at the best position.\")\n",
    "        for idx in range(TRACE_COUNT):\n",
    "            trace = collect_traces()\n",
    "            trace_list.append(trace)\n",
    "            print(f\"Captured trace {idx + 1}/{TRACE_COUNT}\")\n",
    "            time.sleep(2)\n",
    "        \n",
    "        print(\"Sending final G-code.\")\n",
    "        for command in GCODE_FINAL:\n",
    "            send_gcode(ser, command)\n",
    "    \n",
    "    np.save(os.path.join(FILE_DIRECTORY, '5G_Traces_Phone_Radio_Station_Test_4.npy'), np.array(trace_list))\n",
    "    print(\"Final traces saved.\")\n",
    "\n",
    "def main():\n",
    "    print(\"Starting data collection at multiple positions.\")\n",
    "    position_averages = collect_data_at_positions()\n",
    "    best_idx, best_position = determine_best_position(position_averages)\n",
    "    print(f\"Best position determined: {best_idx + 1} - {best_position}\")\n",
    "    collect_data_at_best_position(best_position)\n",
    "    print(\"Data collection complete.\")\n",
    "\n",
    "if __name__ == \"__main__\":\n",
    "    main()\n"
   ]
  },
  {
   "cell_type": "markdown",
   "id": "d108bfb2",
   "metadata": {},
   "source": [
    "The cell below is another version of the code that will collect traces at a single position.  That position is defined in the GCODE_INIT. The number of traces to be collected is defined in TRACE_COUNT. "
   ]
  },
  {
   "cell_type": "code",
   "execution_count": 12,
   "id": "85d30067-e9e2-4a57-acac-19ffb6dc2ded",
   "metadata": {},
   "outputs": [
    {
     "name": "stdout",
     "output_type": "stream",
     "text": [
      "Printer connected. Sending initialization G-code.\n",
      "Sent: G21\n",
      "Sent: G90\n",
      "Sent: M140 S0\n",
      "Sent: M104 S0\n",
      "Sent: M107\n",
      "Sent: G28\n",
      "Sent: G0 Z25.4 F3000\n",
      "Sent: G0 X22.7 Y116.8 F3000\n",
      "Sent: G0 Z0.0 F3000\n",
      "Moving to target position: G1 X27.78 Y121.88 Z0.0 F1500\n",
      "Sent: G1 X27.78 Y121.88 Z0.0 F1500\n",
      "Collecting 200 traces at the target position.\n",
      "Chipwhisperer armed\n"
     ]
    },
    {
     "name": "stderr",
     "output_type": "stream",
     "text": [
      "(ChipWhisperer Scope WARNING|File _OpenADCInterface.py:732) Timeout in OpenADC capture(), no trigger seen! Trigger forced, data is invalid. Status: 13\n",
      "(ChipWhisperer Scope WARNING|File _OpenADCInterface.py:732) Timeout in OpenADC capture(), no trigger seen! Trigger forced, data is invalid. Status: 12\n"
     ]
    },
    {
     "name": "stdout",
     "output_type": "stream",
     "text": [
      "Capture done!\n",
      "Power trace captured: [ 0.01513672  0.01367188  0.01757812 ... -0.00537109 -0.00537109\n",
      " -0.00366211]\n",
      "Captured trace 1/200\n",
      "Chipwhisperer armed\n"
     ]
    },
    {
     "name": "stderr",
     "output_type": "stream",
     "text": [
      "(ChipWhisperer Scope WARNING|File _OpenADCInterface.py:732) Timeout in OpenADC capture(), no trigger seen! Trigger forced, data is invalid. Status: 13\n",
      "(ChipWhisperer Scope WARNING|File _OpenADCInterface.py:732) Timeout in OpenADC capture(), no trigger seen! Trigger forced, data is invalid. Status: 12\n"
     ]
    },
    {
     "name": "stdout",
     "output_type": "stream",
     "text": [
      "Capture done!\n",
      "Power trace captured: [-0.01269531 -0.01269531 -0.01196289 ...  0.01977539  0.01123047\n",
      "  0.01489258]\n",
      "Captured trace 2/200\n",
      "Chipwhisperer armed\n"
     ]
    },
    {
     "name": "stderr",
     "output_type": "stream",
     "text": [
      "(ChipWhisperer Scope WARNING|File _OpenADCInterface.py:732) Timeout in OpenADC capture(), no trigger seen! Trigger forced, data is invalid. Status: 13\n",
      "(ChipWhisperer Scope WARNING|File _OpenADCInterface.py:732) Timeout in OpenADC capture(), no trigger seen! Trigger forced, data is invalid. Status: 12\n"
     ]
    },
    {
     "name": "stdout",
     "output_type": "stream",
     "text": [
      "Capture done!\n",
      "Power trace captured: [-0.02001953 -0.02075195 -0.01782227 ...  0.00317383  0.01831055\n",
      "  0.00561523]\n",
      "Captured trace 3/200\n",
      "Chipwhisperer armed\n"
     ]
    },
    {
     "ename": "KeyboardInterrupt",
     "evalue": "",
     "output_type": "error",
     "traceback": [
      "\u001b[0;31m---------------------------------------------------------------------------\u001b[0m",
      "\u001b[0;31mKeyboardInterrupt\u001b[0m                         Traceback (most recent call last)",
      "Cell \u001b[0;32mIn[12], line 110\u001b[0m\n\u001b[1;32m    106\u001b[0m     \u001b[38;5;28mprint\u001b[39m(\u001b[38;5;124mf\u001b[39m\u001b[38;5;124m\"\u001b[39m\u001b[38;5;124mTraces saved to \u001b[39m\u001b[38;5;132;01m{\u001b[39;00msave_path\u001b[38;5;132;01m}\u001b[39;00m\u001b[38;5;124m. Total traces collected: \u001b[39m\u001b[38;5;132;01m{\u001b[39;00m\u001b[38;5;28mlen\u001b[39m(trace_list)\u001b[38;5;132;01m}\u001b[39;00m\u001b[38;5;124m.\u001b[39m\u001b[38;5;124m\"\u001b[39m)\n\u001b[1;32m    109\u001b[0m \u001b[38;5;28;01mif\u001b[39;00m \u001b[38;5;18m__name__\u001b[39m \u001b[38;5;241m==\u001b[39m \u001b[38;5;124m\"\u001b[39m\u001b[38;5;124m__main__\u001b[39m\u001b[38;5;124m\"\u001b[39m:\n\u001b[0;32m--> 110\u001b[0m     \u001b[43mmain\u001b[49m\u001b[43m(\u001b[49m\u001b[43m)\u001b[49m\n",
      "Cell \u001b[0;32mIn[12], line 82\u001b[0m, in \u001b[0;36mmain\u001b[0;34m()\u001b[0m\n\u001b[1;32m     79\u001b[0m \u001b[38;5;28mprint\u001b[39m(\u001b[38;5;124mf\u001b[39m\u001b[38;5;124m\"\u001b[39m\u001b[38;5;124mCollecting \u001b[39m\u001b[38;5;132;01m{\u001b[39;00mTRACE_COUNT\u001b[38;5;132;01m}\u001b[39;00m\u001b[38;5;124m traces at the target position.\u001b[39m\u001b[38;5;124m\"\u001b[39m)\n\u001b[1;32m     80\u001b[0m \u001b[38;5;28;01mfor\u001b[39;00m idx \u001b[38;5;129;01min\u001b[39;00m \u001b[38;5;28mrange\u001b[39m(TRACE_COUNT):\n\u001b[1;32m     81\u001b[0m     \u001b[38;5;66;03m# Arm and capture trace\u001b[39;00m\n\u001b[0;32m---> 82\u001b[0m     trace \u001b[38;5;241m=\u001b[39m \u001b[43mcollect_traces\u001b[49m\u001b[43m(\u001b[49m\u001b[43m)\u001b[49m\n\u001b[1;32m     83\u001b[0m     trace_list\u001b[38;5;241m.\u001b[39mappend(trace)\n\u001b[1;32m     84\u001b[0m     \u001b[38;5;28mprint\u001b[39m(\u001b[38;5;124mf\u001b[39m\u001b[38;5;124m\"\u001b[39m\u001b[38;5;124mCaptured trace \u001b[39m\u001b[38;5;132;01m{\u001b[39;00midx\u001b[38;5;250m \u001b[39m\u001b[38;5;241m+\u001b[39m\u001b[38;5;250m \u001b[39m\u001b[38;5;241m1\u001b[39m\u001b[38;5;132;01m}\u001b[39;00m\u001b[38;5;124m/\u001b[39m\u001b[38;5;132;01m{\u001b[39;00mTRACE_COUNT\u001b[38;5;132;01m}\u001b[39;00m\u001b[38;5;124m\"\u001b[39m)\n",
      "Cell \u001b[0;32mIn[12], line 43\u001b[0m, in \u001b[0;36mcollect_traces\u001b[0;34m()\u001b[0m\n\u001b[1;32m     40\u001b[0m scope\u001b[38;5;241m.\u001b[39marm()\n\u001b[1;32m     41\u001b[0m \u001b[38;5;28mprint\u001b[39m(\u001b[38;5;124m\"\u001b[39m\u001b[38;5;124mChipwhisperer armed\u001b[39m\u001b[38;5;124m\"\u001b[39m)\n\u001b[0;32m---> 43\u001b[0m \u001b[43mscope\u001b[49m\u001b[38;5;241;43m.\u001b[39;49m\u001b[43mcapture\u001b[49m\u001b[43m(\u001b[49m\u001b[43m)\u001b[49m\n\u001b[1;32m     44\u001b[0m \u001b[38;5;28mprint\u001b[39m(\u001b[38;5;124m\"\u001b[39m\u001b[38;5;124mCapture done!\u001b[39m\u001b[38;5;124m\"\u001b[39m)\n\u001b[1;32m     46\u001b[0m power_trace \u001b[38;5;241m=\u001b[39m scope\u001b[38;5;241m.\u001b[39mget_last_trace()\n",
      "File \u001b[0;32m~/chipwhisperer/software/chipwhisperer/capture/scopes/OpenADC.py:870\u001b[0m, in \u001b[0;36mOpenADC.capture\u001b[0;34m(self, poll_done)\u001b[0m\n\u001b[1;32m    868\u001b[0m     a \u001b[38;5;241m=\u001b[39m \u001b[38;5;28mself\u001b[39m\u001b[38;5;241m.\u001b[39msc\u001b[38;5;241m.\u001b[39mcapture(\u001b[38;5;28;01mNone\u001b[39;00m)\n\u001b[1;32m    869\u001b[0m \u001b[38;5;28;01melse\u001b[39;00m:\n\u001b[0;32m--> 870\u001b[0m     a \u001b[38;5;241m=\u001b[39m \u001b[38;5;28;43mself\u001b[39;49m\u001b[38;5;241;43m.\u001b[39;49m\u001b[43msc\u001b[49m\u001b[38;5;241;43m.\u001b[39;49m\u001b[43mcapture\u001b[49m\u001b[43m(\u001b[49m\u001b[38;5;28;43mself\u001b[39;49m\u001b[38;5;241;43m.\u001b[39;49m\u001b[43madc\u001b[49m\u001b[38;5;241;43m.\u001b[39;49m\u001b[43moffset\u001b[49m\u001b[43m,\u001b[49m\u001b[43m \u001b[49m\u001b[38;5;28;43mself\u001b[39;49m\u001b[38;5;241;43m.\u001b[39;49m\u001b[43mclock\u001b[49m\u001b[38;5;241;43m.\u001b[39;49m\u001b[43madc_freq\u001b[49m\u001b[43m,\u001b[49m\u001b[43m \u001b[49m\u001b[38;5;28;43mself\u001b[39;49m\u001b[38;5;241;43m.\u001b[39;49m\u001b[43madc\u001b[49m\u001b[38;5;241;43m.\u001b[39;49m\u001b[43msamples\u001b[49m\u001b[43m,\u001b[49m\u001b[43m \u001b[49m\u001b[38;5;28;43mself\u001b[39;49m\u001b[38;5;241;43m.\u001b[39;49m\u001b[43madc\u001b[49m\u001b[38;5;241;43m.\u001b[39;49m\u001b[43msegments\u001b[49m\u001b[43m,\u001b[49m\u001b[43m \u001b[49m\u001b[38;5;28;43mself\u001b[39;49m\u001b[38;5;241;43m.\u001b[39;49m\u001b[43madc\u001b[49m\u001b[38;5;241;43m.\u001b[39;49m\u001b[43msegment_cycles\u001b[49m\u001b[43m,\u001b[49m\u001b[43m \u001b[49m\u001b[43mpoll_done\u001b[49m\u001b[43m)\u001b[49m\n\u001b[1;32m    872\u001b[0m \u001b[38;5;66;03m# _capture_read() must be given the total number of samples to read; in the case of Husky, self.adc.samples\u001b[39;00m\n\u001b[1;32m    873\u001b[0m \u001b[38;5;66;03m# is the number of samples *per segment*, so adjust accordingly:\u001b[39;00m\n\u001b[1;32m    874\u001b[0m \u001b[38;5;28;01mif\u001b[39;00m \u001b[38;5;28mself\u001b[39m\u001b[38;5;241m.\u001b[39m_is_husky:\n",
      "File \u001b[0;32m~/chipwhisperer/software/chipwhisperer/capture/scopes/_OpenADCInterface.py:726\u001b[0m, in \u001b[0;36mOpenADCInterface.capture\u001b[0;34m(self, offset, adc_freq, samples, segments, segment_cycles, poll_done)\u001b[0m\n\u001b[1;32m    724\u001b[0m \u001b[38;5;66;03m# Wait for a trigger\u001b[39;00m\n\u001b[1;32m    725\u001b[0m \u001b[38;5;28;01mwhile\u001b[39;00m ((status \u001b[38;5;241m&\u001b[39m STATUS_ARM_MASK) \u001b[38;5;241m==\u001b[39m STATUS_ARM_MASK) \u001b[38;5;241m|\u001b[39m ((status \u001b[38;5;241m&\u001b[39m STATUS_FIFO_MASK) \u001b[38;5;241m==\u001b[39m \u001b[38;5;241m0\u001b[39m):\n\u001b[0;32m--> 726\u001b[0m     status \u001b[38;5;241m=\u001b[39m \u001b[38;5;28;43mself\u001b[39;49m\u001b[38;5;241;43m.\u001b[39;49m\u001b[43mgetStatus\u001b[49m\u001b[43m(\u001b[49m\u001b[43m)\u001b[49m\n\u001b[1;32m    728\u001b[0m     diff \u001b[38;5;241m=\u001b[39m datetime\u001b[38;5;241m.\u001b[39mdatetime\u001b[38;5;241m.\u001b[39mnow() \u001b[38;5;241m-\u001b[39m starttime\n\u001b[1;32m    730\u001b[0m     \u001b[38;5;66;03m# If we've timed out, don't wait any longer for a trigger\u001b[39;00m\n",
      "File \u001b[0;32m~/chipwhisperer/software/chipwhisperer/capture/scopes/_OpenADCInterface.py:467\u001b[0m, in \u001b[0;36mOpenADCInterface.getStatus\u001b[0;34m(self)\u001b[0m\n\u001b[1;32m    466\u001b[0m \u001b[38;5;28;01mdef\u001b[39;00m \u001b[38;5;21mgetStatus\u001b[39m(\u001b[38;5;28mself\u001b[39m):\n\u001b[0;32m--> 467\u001b[0m     result \u001b[38;5;241m=\u001b[39m \u001b[38;5;28;43mself\u001b[39;49m\u001b[38;5;241;43m.\u001b[39;49m\u001b[43msendMessage\u001b[49m\u001b[43m(\u001b[49m\u001b[43mCODE_READ\u001b[49m\u001b[43m,\u001b[49m\u001b[43m \u001b[49m\u001b[38;5;124;43m\"\u001b[39;49m\u001b[38;5;124;43mSTATUS_ADDR\u001b[39;49m\u001b[38;5;124;43m\"\u001b[39;49m\u001b[43m)\u001b[49m\n\u001b[1;32m    469\u001b[0m     \u001b[38;5;28;01mif\u001b[39;00m \u001b[38;5;28mlen\u001b[39m(result) \u001b[38;5;241m==\u001b[39m \u001b[38;5;241m1\u001b[39m:\n\u001b[1;32m    470\u001b[0m         \u001b[38;5;28;01mreturn\u001b[39;00m result[\u001b[38;5;241m0\u001b[39m]\n",
      "File \u001b[0;32m~/chipwhisperer/software/chipwhisperer/capture/scopes/_OpenADCInterface.py:290\u001b[0m, in \u001b[0;36mOpenADCInterface.sendMessage\u001b[0;34m(self, mode, address, payload, Validate, maxResp, readMask)\u001b[0m\n\u001b[1;32m    288\u001b[0m address \u001b[38;5;241m=\u001b[39m \u001b[38;5;28mself\u001b[39m\u001b[38;5;241m.\u001b[39m_address_str2int(address)\n\u001b[1;32m    289\u001b[0m \u001b[38;5;28;01mif\u001b[39;00m mode \u001b[38;5;241m!=\u001b[39m CODE_WRITE:\n\u001b[0;32m--> 290\u001b[0m     \u001b[38;5;28;01mreturn\u001b[39;00m \u001b[38;5;28;43mself\u001b[39;49m\u001b[38;5;241;43m.\u001b[39;49m\u001b[43mmsg_read\u001b[49m\u001b[43m(\u001b[49m\u001b[43maddress\u001b[49m\u001b[43m,\u001b[49m\u001b[43m \u001b[49m\u001b[43mmaxResp\u001b[49m\u001b[43m)\u001b[49m\n\u001b[1;32m    291\u001b[0m \u001b[38;5;28mself\u001b[39m\u001b[38;5;241m.\u001b[39mmsg_write(address, payload)\n\u001b[1;32m    292\u001b[0m \u001b[38;5;28;01mif\u001b[39;00m Validate:\n",
      "File \u001b[0;32m~/chipwhisperer/software/chipwhisperer/capture/scopes/_OpenADCInterface.py:214\u001b[0m, in \u001b[0;36mOpenADCInterface.msg_read\u001b[0;34m(self, address, max_resp)\u001b[0m\n\u001b[1;32m    211\u001b[0m         scope_logger\u001b[38;5;241m.\u001b[39mwarning(\u001b[38;5;124m\"\u001b[39m\u001b[38;5;124mThe error trace below will show you what led to this:\u001b[39m\u001b[38;5;124m\"\u001b[39m)\n\u001b[1;32m    212\u001b[0m         \u001b[38;5;28;01mraise\u001b[39;00m \u001b[38;5;167;01mValueError\u001b[39;00m\n\u001b[0;32m--> 214\u001b[0m     data \u001b[38;5;241m=\u001b[39m \u001b[38;5;28;43mself\u001b[39;49m\u001b[38;5;241;43m.\u001b[39;49m\u001b[43mserial\u001b[49m\u001b[38;5;241;43m.\u001b[39;49m\u001b[43mcmdReadMem\u001b[49m\u001b[43m(\u001b[49m\u001b[43maddress\u001b[49m\u001b[43m,\u001b[49m\u001b[43m \u001b[49m\u001b[43mmax_resp\u001b[49m\u001b[43m)\u001b[49m\n\u001b[1;32m    215\u001b[0m \u001b[38;5;28;01melse\u001b[39;00m:\n\u001b[1;32m    216\u001b[0m     \u001b[38;5;28mself\u001b[39m\u001b[38;5;241m.\u001b[39m_send_msg_hdr(CODE_READ, address, \u001b[38;5;241m0\u001b[39m)\n",
      "File \u001b[0;32m~/chipwhisperer/software/chipwhisperer/hardware/naeusb/naeusb.py:885\u001b[0m, in \u001b[0;36mNAEUSB.cmdReadMem\u001b[0;34m(self, addr, dlen)\u001b[0m\n\u001b[1;32m    879\u001b[0m \u001b[38;5;28;01mdef\u001b[39;00m \u001b[38;5;21mcmdReadMem\u001b[39m(\u001b[38;5;28mself\u001b[39m, addr : \u001b[38;5;28mint\u001b[39m, dlen : \u001b[38;5;28mint\u001b[39m) \u001b[38;5;241m-\u001b[39m\u001b[38;5;241m>\u001b[39m \u001b[38;5;28mbytearray\u001b[39m:\n\u001b[1;32m    880\u001b[0m \u001b[38;5;250m    \u001b[39m\u001b[38;5;124;03m\"\"\"\u001b[39;00m\n\u001b[1;32m    881\u001b[0m \u001b[38;5;124;03m    Send command to read over external memory interface from FPGA. Automatically\u001b[39;00m\n\u001b[1;32m    882\u001b[0m \u001b[38;5;124;03m    decides to use control-transfer or bulk-endpoint transfer based on data length.\u001b[39;00m\n\u001b[1;32m    883\u001b[0m \u001b[38;5;124;03m    \"\"\"\u001b[39;00m\n\u001b[0;32m--> 885\u001b[0m     \u001b[38;5;28;01mreturn\u001b[39;00m \u001b[38;5;28;43mself\u001b[39;49m\u001b[38;5;241;43m.\u001b[39;49m\u001b[43musbserializer\u001b[49m\u001b[38;5;241;43m.\u001b[39;49m\u001b[43mcmdReadMem\u001b[49m\u001b[43m(\u001b[49m\u001b[43maddr\u001b[49m\u001b[43m,\u001b[49m\u001b[43m \u001b[49m\u001b[43mdlen\u001b[49m\u001b[43m)\u001b[49m\n",
      "File \u001b[0;32m~/chipwhisperer/software/chipwhisperer/hardware/naeusb/naeusb.py:631\u001b[0m, in \u001b[0;36mNAEUSB_Backend.cmdReadMem\u001b[0;34m(self, addr, dlen)\u001b[0m\n\u001b[1;32m    629\u001b[0m dlen \u001b[38;5;241m=\u001b[39m \u001b[38;5;28mint\u001b[39m(dlen)\n\u001b[1;32m    630\u001b[0m \u001b[38;5;28;01mif\u001b[39;00m dlen \u001b[38;5;241m<\u001b[39m NAEUSB_CTRL_IO_THRESHOLD:\n\u001b[0;32m--> 631\u001b[0m     data \u001b[38;5;241m=\u001b[39m \u001b[38;5;28;43mself\u001b[39;49m\u001b[38;5;241;43m.\u001b[39;49m\u001b[43m_cmd_readmem_ctrl\u001b[49m\u001b[43m(\u001b[49m\u001b[43maddr\u001b[49m\u001b[43m,\u001b[49m\u001b[43m \u001b[49m\u001b[43mdlen\u001b[49m\u001b[43m)\u001b[49m\n\u001b[1;32m    632\u001b[0m \u001b[38;5;28;01melse\u001b[39;00m:\n\u001b[1;32m    633\u001b[0m     data \u001b[38;5;241m=\u001b[39m \u001b[38;5;28mself\u001b[39m\u001b[38;5;241m.\u001b[39m_cmd_readmem_bulk(addr, dlen)\n",
      "File \u001b[0;32m~/chipwhisperer/software/chipwhisperer/hardware/naeusb/naeusb.py:613\u001b[0m, in \u001b[0;36mNAEUSB_Backend._cmd_readmem_ctrl\u001b[0;34m(self, addr, dlen)\u001b[0m\n\u001b[1;32m    607\u001b[0m \u001b[38;5;250m\u001b[39m\u001b[38;5;124;03m\"\"\"Reads data from the external memory interface over the control-transfer endpoint.\u001b[39;00m\n\u001b[1;32m    608\u001b[0m \n\u001b[1;32m    609\u001b[0m \u001b[38;5;124;03mReturns:\u001b[39;00m\n\u001b[1;32m    610\u001b[0m \u001b[38;5;124;03m    The received data.\u001b[39;00m\n\u001b[1;32m    611\u001b[0m \u001b[38;5;124;03m\"\"\"\u001b[39;00m\n\u001b[1;32m    612\u001b[0m \u001b[38;5;28mself\u001b[39m\u001b[38;5;241m.\u001b[39m_cmd_ctrl_send_header(addr, dlen, \u001b[38;5;28mself\u001b[39m\u001b[38;5;241m.\u001b[39mCMD_READMEM_CTRL);\n\u001b[0;32m--> 613\u001b[0m \u001b[38;5;28;01mreturn\u001b[39;00m \u001b[38;5;28;43mself\u001b[39;49m\u001b[38;5;241;43m.\u001b[39;49m\u001b[43mreadCtrl\u001b[49m\u001b[43m(\u001b[49m\u001b[38;5;28;43mself\u001b[39;49m\u001b[38;5;241;43m.\u001b[39;49m\u001b[43mCMD_READMEM_CTRL\u001b[49m\u001b[43m,\u001b[49m\u001b[43m \u001b[49m\u001b[43mdlen\u001b[49m\u001b[38;5;241;43m=\u001b[39;49m\u001b[43mdlen\u001b[49m\u001b[43m)\u001b[49m\n",
      "File \u001b[0;32m~/chipwhisperer/software/chipwhisperer/hardware/naeusb/naeusb.py:557\u001b[0m, in \u001b[0;36mNAEUSB_Backend.readCtrl\u001b[0;34m(self, cmd, value, dlen)\u001b[0m\n\u001b[1;32m    555\u001b[0m \u001b[38;5;28;01mif\u001b[39;00m dlen \u001b[38;5;241m>\u001b[39m NAEUSB_CTRL_IO_MAX:\n\u001b[1;32m    556\u001b[0m     naeusb_logger\u001b[38;5;241m.\u001b[39merror(\u001b[38;5;124m\"\u001b[39m\u001b[38;5;124mThe naeusb fw ctrl buffer is 128 bytes, but len(data) > 128. If you get a pipe error, this is why.\u001b[39m\u001b[38;5;124m\"\u001b[39m)\n\u001b[0;32m--> 557\u001b[0m response \u001b[38;5;241m=\u001b[39m \u001b[38;5;28;43mself\u001b[39;49m\u001b[38;5;241;43m.\u001b[39;49m\u001b[43mhandle\u001b[49m\u001b[38;5;241;43m.\u001b[39;49m\u001b[43mcontrolRead\u001b[49m\u001b[43m(\u001b[49m\u001b[38;5;241;43m0xC1\u001b[39;49m\u001b[43m,\u001b[49m\u001b[43m \u001b[49m\u001b[43mcmd\u001b[49m\u001b[43m,\u001b[49m\u001b[43m \u001b[49m\u001b[43mvalue\u001b[49m\u001b[43m,\u001b[49m\u001b[43m \u001b[49m\u001b[38;5;241;43m0\u001b[39;49m\u001b[43m,\u001b[49m\u001b[43m \u001b[49m\u001b[43mdlen\u001b[49m\u001b[43m,\u001b[49m\u001b[43m \u001b[49m\u001b[43mtimeout\u001b[49m\u001b[38;5;241;43m=\u001b[39;49m\u001b[38;5;28;43mself\u001b[39;49m\u001b[38;5;241;43m.\u001b[39;49m\u001b[43m_timeout\u001b[49m\u001b[43m)\u001b[49m\n\u001b[1;32m    558\u001b[0m naeusb_logger\u001b[38;5;241m.\u001b[39mdebug(\u001b[38;5;124m\"\u001b[39m\u001b[38;5;124mREAD_CTRL: bmRequestType: \u001b[39m\u001b[38;5;132;01m{:02X}\u001b[39;00m\u001b[38;5;124m, \u001b[39m\u001b[38;5;130;01m\\\u001b[39;00m\n\u001b[1;32m    559\u001b[0m \u001b[38;5;124m            bRequest: \u001b[39m\u001b[38;5;132;01m{:02X}\u001b[39;00m\u001b[38;5;124m, wValue: \u001b[39m\u001b[38;5;132;01m{:04X}\u001b[39;00m\u001b[38;5;124m, wIndex: \u001b[39m\u001b[38;5;132;01m{:04X}\u001b[39;00m\u001b[38;5;124m, data_len: \u001b[39m\u001b[38;5;132;01m{:04X}\u001b[39;00m\u001b[38;5;124m, response: \u001b[39m\u001b[38;5;132;01m{}\u001b[39;00m\u001b[38;5;124m\"\u001b[39m\u001b[38;5;241m.\u001b[39mformat(\u001b[38;5;241m0xC1\u001b[39m, cmd, \\\n\u001b[1;32m    560\u001b[0m                 value, \u001b[38;5;241m0\u001b[39m, dlen, response))\n\u001b[1;32m    561\u001b[0m \u001b[38;5;28;01mreturn\u001b[39;00m response\n",
      "File \u001b[0;32m~/.pyenv/versions/cw/lib/python3.9/site-packages/usb1/__init__.py:1350\u001b[0m, in \u001b[0;36mUSBDeviceHandle.controlRead\u001b[0;34m(self, request_type, request, value, index, length, timeout)\u001b[0m\n\u001b[1;32m   1348\u001b[0m \u001b[38;5;66;03m# pylint: enable=undefined-variable\u001b[39;00m\n\u001b[1;32m   1349\u001b[0m data, data_buffer \u001b[38;5;241m=\u001b[39m create_binary_buffer(length)\n\u001b[0;32m-> 1350\u001b[0m transferred \u001b[38;5;241m=\u001b[39m \u001b[38;5;28;43mself\u001b[39;49m\u001b[38;5;241;43m.\u001b[39;49m\u001b[43m_controlTransfer\u001b[49m\u001b[43m(\u001b[49m\n\u001b[1;32m   1351\u001b[0m \u001b[43m    \u001b[49m\u001b[43mrequest_type\u001b[49m\u001b[43m,\u001b[49m\u001b[43m \u001b[49m\u001b[43mrequest\u001b[49m\u001b[43m,\u001b[49m\u001b[43m \u001b[49m\u001b[43mvalue\u001b[49m\u001b[43m,\u001b[49m\u001b[43m \u001b[49m\u001b[43mindex\u001b[49m\u001b[43m,\u001b[49m\u001b[43m \u001b[49m\u001b[43mdata\u001b[49m\u001b[43m,\u001b[49m\u001b[43m \u001b[49m\u001b[43mlength\u001b[49m\u001b[43m,\u001b[49m\u001b[43m \u001b[49m\u001b[43mtimeout\u001b[49m\u001b[43m,\u001b[49m\n\u001b[1;32m   1352\u001b[0m \u001b[43m\u001b[49m\u001b[43m)\u001b[49m\n\u001b[1;32m   1353\u001b[0m \u001b[38;5;28;01mreturn\u001b[39;00m data_buffer[:transferred]\n",
      "File \u001b[0;32m~/.pyenv/versions/cw/lib/python3.9/site-packages/usb1/__init__.py:1303\u001b[0m, in \u001b[0;36mUSBDeviceHandle._controlTransfer\u001b[0;34m(self, request_type, request, value, index, data, length, timeout)\u001b[0m\n\u001b[1;32m   1301\u001b[0m \u001b[38;5;28;01mdef\u001b[39;00m \u001b[38;5;21m_controlTransfer\u001b[39m(\n\u001b[1;32m   1302\u001b[0m         \u001b[38;5;28mself\u001b[39m, request_type, request, value, index, data, length, timeout):\n\u001b[0;32m-> 1303\u001b[0m     result \u001b[38;5;241m=\u001b[39m \u001b[43mlibusb1\u001b[49m\u001b[38;5;241;43m.\u001b[39;49m\u001b[43mlibusb_control_transfer\u001b[49m\u001b[43m(\u001b[49m\n\u001b[1;32m   1304\u001b[0m \u001b[43m        \u001b[49m\u001b[38;5;28;43mself\u001b[39;49m\u001b[38;5;241;43m.\u001b[39;49m\u001b[43m__handle\u001b[49m\u001b[43m,\u001b[49m\u001b[43m \u001b[49m\u001b[43mrequest_type\u001b[49m\u001b[43m,\u001b[49m\u001b[43m \u001b[49m\u001b[43mrequest\u001b[49m\u001b[43m,\u001b[49m\u001b[43m \u001b[49m\u001b[43mvalue\u001b[49m\u001b[43m,\u001b[49m\u001b[43m \u001b[49m\u001b[43mindex\u001b[49m\u001b[43m,\u001b[49m\u001b[43m \u001b[49m\u001b[43mdata\u001b[49m\u001b[43m,\u001b[49m\u001b[43m \u001b[49m\u001b[43mlength\u001b[49m\u001b[43m,\u001b[49m\n\u001b[1;32m   1305\u001b[0m \u001b[43m        \u001b[49m\u001b[43mtimeout\u001b[49m\u001b[43m,\u001b[49m\n\u001b[1;32m   1306\u001b[0m \u001b[43m    \u001b[49m\u001b[43m)\u001b[49m\n\u001b[1;32m   1307\u001b[0m     mayRaiseUSBError(result)\n\u001b[1;32m   1308\u001b[0m     \u001b[38;5;28;01mreturn\u001b[39;00m result\n",
      "\u001b[0;31mKeyboardInterrupt\u001b[0m: "
     ]
    }
   ],
   "source": [
    "import serial\n",
    "import time\n",
    "import numpy as np\n",
    "import os\n",
    "\n",
    "# Printer Configuration\n",
    "SERIAL_PORT = '/dev/ttyUSB0'  # Replace with your serial port\n",
    "BAUD_RATE = 115200  # Typical baud rate for Ender 3\n",
    "TIMEOUT = 1  # Timeout for printer communication\n",
    "\n",
    "######### File Configuration ###########\n",
    "FILE_DIRECTORY = '/home/cyse/chipwhisperer/jupyter/courses/sca101/2025_Final_Data_Collection/Phone/Radio_Station'\n",
    "\n",
    "FILENAME = '5G_Traces_Phone_Radio_Station_Test_7.npy'\n",
    "########################################\n",
    "\n",
    "# Complete G-code sequence\n",
    "GCODE_INIT = [\n",
    "    \"G21\",  # Set units to millimeters\n",
    "    \"G90\",  # Absolute positioning\n",
    "    \"M140 S0\",  # Disable bed heating\n",
    "    \"M104 S0\",  # Disable extruder heating\n",
    "    \"M107\",  # Fan off\n",
    "    \"G28\",  # Home all axes\n",
    "    \"G0 Z25.4 F3000\",  # Raise Z-axis 1 inch\n",
    "    \"G0 X22.7 Y116.8 F3000\",  # Move to the top-left corner of the grid\n",
    "    \"G0 Z0.0 F3000\"  # Lower Z-axis to starting position\n",
    "]\n",
    "\n",
    "GCODE_FINAL = [\n",
    "    \"G0 Z25.4 F3000\",  # Raise Z-axis 1 inch after finishing the grid\n",
    "    \"M140 S0\",  # Turn off bed heating\n",
    "    \"M104 S0\",  # Turn off extruder heating\n",
    "    \"M84\"  # Disable motors\n",
    "]\n",
    "\n",
    "# ChipWhisperer Data Collection\n",
    "def collect_traces():\n",
    "    # \"\"\"Collect power traces using ChipWhisperer.\"\"\"\n",
    "    scope.arm()\n",
    "    print(\"Chipwhisperer armed\")\n",
    "\n",
    "    scope.capture()\n",
    "    print(\"Capture done!\")\n",
    "\n",
    "    power_trace = scope.get_last_trace()\n",
    "    print(f\"Power trace captured: {power_trace}\")\n",
    "\n",
    "    return power_trace\n",
    "\n",
    "def send_gcode_to_printer(ser, gcode_command):\n",
    "    # \"\"\"Send a G-code command to the printer.\"\"\"\n",
    "    ser.write((gcode_command + '\\n').encode())\n",
    "    print(f\"Sent: {gcode_command}\")\n",
    "\n",
    "def main():\n",
    "    # \"\"\"Main routine to control the printer and collect traces.\"\"\"\n",
    "    trace_list = []\n",
    "    TARGET_POSITION = \"G1 X27.78 Y121.88 Z0.0 F1500\"  # Replace with your desired G-code position\n",
    "    TRACE_COUNT = 200  # Number of traces to collect\n",
    "\n",
    "    with serial.Serial(SERIAL_PORT, BAUD_RATE, timeout=TIMEOUT) as ser:\n",
    "        print(\"Printer connected. Sending initialization G-code.\")\n",
    "\n",
    "        # Send initialization G-code\n",
    "        for command in GCODE_INIT:\n",
    "            send_gcode_to_printer(ser, command)\n",
    "            time.sleep(2)  # Maintain a 6-second delay for initialization\n",
    "\n",
    "        # Move to the target position\n",
    "        print(f\"Moving to target position: {TARGET_POSITION}\")\n",
    "        send_gcode_to_printer(ser, TARGET_POSITION)\n",
    "        time.sleep(2)  # Wait for movement to complete\n",
    "\n",
    "        # print(\"Waiting 40 seconds before starting trace collection...\")\n",
    "        # time.sleep(40)\n",
    "\n",
    "        # Collect 25 traces at the target position\n",
    "        print(f\"Collecting {TRACE_COUNT} traces at the target position.\")\n",
    "        for idx in range(TRACE_COUNT):\n",
    "            # Arm and capture trace\n",
    "            trace = collect_traces()\n",
    "            trace_list.append(trace)\n",
    "            print(f\"Captured trace {idx + 1}/{TRACE_COUNT}\")\n",
    "\n",
    "            # Optional: Wait time between traces\n",
    "            time.sleep(1)\n",
    "\n",
    "        # Send final G-code\n",
    "        print(\"Sending final G-code.\")\n",
    "        for command in GCODE_FINAL:\n",
    "            send_gcode_to_printer(ser, command)\n",
    "            time.sleep(1)  # Maintain a 6-second delay for finalization\n",
    "\n",
    "    # Save all collected traces to file\n",
    "    trace_array = np.array(trace_list)\n",
    "    save_path = os.path.join(FILE_DIRECTORY, FILENAME)\n",
    "    \n",
    "    if os.path.exists(save_path):\n",
    "        existing_data = np.load(save_path, allow_pickle=True)\n",
    "        all_traces = np.concatenate((existing_data, trace_array))\n",
    "    else:\n",
    "        all_traces = trace_array\n",
    "    \n",
    "    np.save(save_path, all_traces)\n",
    "    print(f\"Traces saved to {save_path}. Total traces collected: {len(trace_list)}.\")\n",
    "\n",
    "\n",
    "if __name__ == \"__main__\":\n",
    "    main()\n"
   ]
  },
  {
   "cell_type": "code",
   "execution_count": null,
   "id": "b84ca02e-d2ec-4b26-9725-4ce35141a2b7",
   "metadata": {},
   "outputs": [],
   "source": []
  },
  {
   "cell_type": "markdown",
   "id": "32158900",
   "metadata": {},
   "source": [
    "The cell below is to disable the current chipwhisperer scope and target."
   ]
  },
  {
   "cell_type": "code",
   "execution_count": 142,
   "id": "5f376b8e-5898-4a15-9acf-7bed83f50165",
   "metadata": {},
   "outputs": [],
   "source": [
    "scope.dis()\n",
    "target.dis()"
   ]
  },
  {
   "cell_type": "code",
   "execution_count": null,
   "id": "425bd01b-aa99-4504-a572-9afc40cd6866",
   "metadata": {},
   "outputs": [],
   "source": []
  }
 ],
 "metadata": {
  "kernelspec": {
   "display_name": "Python 3 (ipykernel)",
   "language": "python",
   "name": "python3"
  },
  "language_info": {
   "codemirror_mode": {
    "name": "ipython",
    "version": 3
   },
   "file_extension": ".py",
   "mimetype": "text/x-python",
   "name": "python",
   "nbconvert_exporter": "python",
   "pygments_lexer": "ipython3",
   "version": "3.9.5"
  }
 },
 "nbformat": 4,
 "nbformat_minor": 5
}
